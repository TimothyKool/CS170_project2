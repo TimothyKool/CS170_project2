{
 "metadata": {
  "language_info": {
   "codemirror_mode": {
    "name": "ipython",
    "version": 3
   },
   "file_extension": ".py",
   "mimetype": "text/x-python",
   "name": "python",
   "nbconvert_exporter": "python",
   "pygments_lexer": "ipython3",
   "version": "3.7.6-final"
  },
  "orig_nbformat": 2,
  "kernelspec": {
   "name": "python3",
   "display_name": "Python 3.7.6 64-bit ('base': conda)",
   "metadata": {
    "interpreter": {
     "hash": "8fb34cdff79fd62e0922697617a6d00f1635255e5d4ef9c485fc32f78f4c52f2"
    }
   }
  }
 },
 "nbformat": 4,
 "nbformat_minor": 2,
 "cells": [
  {
   "cell_type": "code",
   "execution_count": 178,
   "metadata": {
    "tags": []
   },
   "outputs": [],
   "source": [
    "import numpy as np\n",
    "\n",
    "def loadData():\n",
    "    import csv\n",
    "\n",
    "    var = []\n",
    "\n",
    "    # dataFile = open('CS170_SMALLtestdata__80.txt', 'r')\n",
    "    dataFile = open('./test_set/CS170_small_special_testdata__97.txt', 'r')\n",
    "    data = csv.reader(dataFile, delimiter=' ', skipinitialspace=True)\n",
    "    for row in data:\n",
    "        var.append(row)\n",
    "    dataFile.close()\n",
    "\n",
    "    return var\n",
    "\n",
    "X = np.array(loadData())\n",
    "X = X.astype(np.float)"
   ]
  },
  {
   "cell_type": "code",
   "execution_count": 173,
   "metadata": {
    "tags": []
   },
   "outputs": [],
   "source": [
    "import copy\n",
    "\n",
    "def leaveOneOut(data, current_set, feature_to_add):\n",
    "    total_set = copy.deepcopy(current_set)\n",
    "    total_set.append(feature_to_add)\n",
    "    total_set.insert(0, 0)\n",
    "    \n",
    "    modified_data = data[:, total_set]\n",
    "    m = len(modified_data)\n",
    "    number_correctly_classified = 0\n",
    "\n",
    "    for i in range(m):\n",
    "        object_to_classify = modified_data[i,1:]\n",
    "        label_object_to_classify = modified_data[i,0]\n",
    "\n",
    "        nearest_neighbor_distance = float('inf')\n",
    "        nearest_neighbor_location = float('inf')\n",
    "        nearest_neighbor_label = 0\n",
    "        for j in range(m):\n",
    "            if j != i:\n",
    "                distance = np.sqrt(np.sum(np.square(object_to_classify - modified_data[j,1:])))\n",
    "                if distance < nearest_neighbor_distance:\n",
    "                    nearest_neighbor_distance = distance\n",
    "                    nearest_neighbor_location = j\n",
    "                    nearest_neighbor_label = modified_data[j,0]\n",
    "        if label_object_to_classify == nearest_neighbor_label:\n",
    "            number_correctly_classified += 1\n",
    "\n",
    "        # print(\"Object \", i+1, \" is class \", nearest_neighbor_label)\n",
    "        # print(\"Its nearest neighbor is \", nearest_neighbor_location, \" which is in class \", nearest_neighbor_label)\n",
    "    \n",
    "    accuracy = number_correctly_classified / m\n",
    "    return accuracy\n"
   ]
  },
  {
   "cell_type": "code",
   "execution_count": 174,
   "metadata": {},
   "outputs": [
    {
     "output_type": "stream",
     "name": "stdout",
     "text": [
      "This is acc for  7  :  0.82\n",
      "This is acc for 7,4 :  0.8233333333333334\n",
      "This is acc for 7,4,6 :  0.92\n"
     ]
    }
   ],
   "source": [
    "# for i in range(10):\n",
    "#     acc = leaveOneOut(X, [], i+1)\n",
    "#     print(\"This is acc for \", i+1 ,\" : \", acc)\n",
    "acc = leaveOneOut(X, [], 7)\n",
    "print(\"This is acc for \", 7 ,\" : \", acc)\n",
    "acc = leaveOneOut(X, [7], 4)\n",
    "print(\"This is acc for 7,4 : \", acc)\n",
    "acc = leaveOneOut(X, [7,4], 6)\n",
    "print(\"This is acc for 7,4,6 : \", acc)"
   ]
  },
  {
   "cell_type": "code",
   "execution_count": 179,
   "metadata": {},
   "outputs": [],
   "source": [
    "def featureSearch(data):\n",
    "    current_set_of_features = []\n",
    "    best_overall_accuracy = 0\n",
    "    best_overall_features = []\n",
    "    m = len(data[0])\n",
    "\n",
    "    for i in range(m-1):\n",
    "        print(\"On the \", i, \" level of the search tree\")\n",
    "        feature_to_add_at_this_level = -1\n",
    "        best_so_far_accuracy = 0\n",
    "        for j in range(m-1):\n",
    "            if j+1 not in current_set_of_features:\n",
    "                print(\"Considering adding the \", j+1, \" feature\")\n",
    "                accuracy = leaveOneOut(data, current_set_of_features, j+1)\n",
    "                if accuracy > best_so_far_accuracy:\n",
    "                    best_so_far_accuracy = accuracy\n",
    "                    feature_to_add_at_this_level = j+1\n",
    "        \n",
    "        current_set_of_features.append(feature_to_add_at_this_level)\n",
    "        # print(\"The current set of features is \", current_set_of_features)\n",
    "        if best_so_far_accuracy > best_overall_accuracy:\n",
    "            best_overall_accuracy = best_so_far_accuracy\n",
    "            best_overall_features = copy.deepcopy(current_set_of_features)\n",
    "        else:\n",
    "            print(\"Warning accuracy has decreased! Continuing search in case of local maxima\")\n",
    "        print(\"On level \", i, \" I added feature \", feature_to_add_at_this_level, \" to the current set\")\n",
    "        print(\"This gives us an accuracy of \", best_so_far_accuracy, \" with features \", current_set_of_features)\n",
    "    print(\"Finished search! Best feature subset is \", best_overall_features, \" with accuracy of \", best_overall_accuracy)\n",
    "    \n"
   ]
  },
  {
   "cell_type": "code",
   "execution_count": 180,
   "metadata": {},
   "outputs": [
    {
     "output_type": "stream",
     "name": "stdout",
     "text": [
      "On the  0  level of the search tree\n",
      "Considering adding the  1  feature\n",
      "Considering adding the  2  feature\n",
      "Considering adding the  3  feature\n",
      "Considering adding the  4  feature\n",
      "Considering adding the  5  feature\n",
      "Considering adding the  6  feature\n",
      "Considering adding the  7  feature\n",
      "Considering adding the  8  feature\n",
      "Considering adding the  9  feature\n",
      "Considering adding the  10  feature\n",
      "On level  0  I added feature  2  to the current set\n",
      "This gives us an accuracy of  0.8666666666666667  with features  [2]\n",
      "On the  1  level of the search tree\n",
      "Considering adding the  1  feature\n",
      "Considering adding the  3  feature\n",
      "Considering adding the  4  feature\n",
      "Considering adding the  5  feature\n",
      "Considering adding the  6  feature\n",
      "Considering adding the  7  feature\n",
      "Considering adding the  8  feature\n",
      "Considering adding the  9  feature\n",
      "Considering adding the  10  feature\n",
      "On level  1  I added feature  7  to the current set\n",
      "This gives us an accuracy of  0.9766666666666667  with features  [2, 7]\n",
      "On the  2  level of the search tree\n",
      "Considering adding the  1  feature\n",
      "Considering adding the  3  feature\n",
      "Considering adding the  4  feature\n",
      "Considering adding the  5  feature\n",
      "Considering adding the  6  feature\n",
      "Considering adding the  8  feature\n",
      "Considering adding the  9  feature\n",
      "Considering adding the  10  feature\n",
      "Warning accuracy has decreased! Continuing search in case of local maxima\n",
      "On level  2  I added feature  8  to the current set\n",
      "This gives us an accuracy of  0.94  with features  [2, 7, 8]\n",
      "On the  3  level of the search tree\n",
      "Considering adding the  1  feature\n",
      "Considering adding the  3  feature\n",
      "Considering adding the  4  feature\n",
      "Considering adding the  5  feature\n",
      "Considering adding the  6  feature\n",
      "Considering adding the  9  feature\n",
      "Considering adding the  10  feature\n",
      "Warning accuracy has decreased! Continuing search in case of local maxima\n",
      "On level  3  I added feature  9  to the current set\n",
      "This gives us an accuracy of  0.89  with features  [2, 7, 8, 9]\n",
      "On the  4  level of the search tree\n",
      "Considering adding the  1  feature\n",
      "Considering adding the  3  feature\n",
      "Considering adding the  4  feature\n",
      "Considering adding the  5  feature\n",
      "Considering adding the  6  feature\n",
      "Considering adding the  10  feature\n",
      "Warning accuracy has decreased! Continuing search in case of local maxima\n",
      "On level  4  I added feature  3  to the current set\n",
      "This gives us an accuracy of  0.86  with features  [2, 7, 8, 9, 3]\n",
      "On the  5  level of the search tree\n",
      "Considering adding the  1  feature\n",
      "Considering adding the  4  feature\n",
      "Considering adding the  5  feature\n",
      "Considering adding the  6  feature\n",
      "Considering adding the  10  feature\n",
      "Warning accuracy has decreased! Continuing search in case of local maxima\n",
      "On level  5  I added feature  1  to the current set\n",
      "This gives us an accuracy of  0.8566666666666667  with features  [2, 7, 8, 9, 3, 1]\n",
      "On the  6  level of the search tree\n",
      "Considering adding the  4  feature\n",
      "Considering adding the  5  feature\n",
      "Considering adding the  6  feature\n",
      "Considering adding the  10  feature\n",
      "Warning accuracy has decreased! Continuing search in case of local maxima\n",
      "On level  6  I added feature  4  to the current set\n",
      "This gives us an accuracy of  0.8166666666666667  with features  [2, 7, 8, 9, 3, 1, 4]\n",
      "On the  7  level of the search tree\n",
      "Considering adding the  5  feature\n",
      "Considering adding the  6  feature\n",
      "Considering adding the  10  feature\n",
      "Warning accuracy has decreased! Continuing search in case of local maxima\n",
      "On level  7  I added feature  5  to the current set\n",
      "This gives us an accuracy of  0.7833333333333333  with features  [2, 7, 8, 9, 3, 1, 4, 5]\n",
      "On the  8  level of the search tree\n",
      "Considering adding the  6  feature\n",
      "Considering adding the  10  feature\n",
      "Warning accuracy has decreased! Continuing search in case of local maxima\n",
      "On level  8  I added feature  10  to the current set\n",
      "This gives us an accuracy of  0.7366666666666667  with features  [2, 7, 8, 9, 3, 1, 4, 5, 10]\n",
      "On the  9  level of the search tree\n",
      "Considering adding the  6  feature\n",
      "Warning accuracy has decreased! Continuing search in case of local maxima\n",
      "On level  9  I added feature  6  to the current set\n",
      "This gives us an accuracy of  0.6866666666666666  with features  [2, 7, 8, 9, 3, 1, 4, 5, 10, 6]\n",
      "Finished search! Best feature subset is  [2, 7]  with accuracy of  0.9766666666666667\n"
     ]
    }
   ],
   "source": [
    "featureSearch(X)"
   ]
  },
  {
   "cell_type": "code",
   "execution_count": 118,
   "metadata": {},
   "outputs": [
    {
     "output_type": "stream",
     "name": "stdout",
     "text": [
      "11\n"
     ]
    }
   ],
   "source": [
    "def backwardFeatureSearch():\n",
    "    "
   ]
  },
  {
   "cell_type": "code",
   "execution_count": null,
   "metadata": {},
   "outputs": [],
   "source": []
  }
 ]
}